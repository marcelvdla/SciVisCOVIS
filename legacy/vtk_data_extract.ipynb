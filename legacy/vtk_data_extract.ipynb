{
 "cells": [
  {
   "cell_type": "code",
   "execution_count": 1,
   "metadata": {},
   "outputs": [],
   "source": [
    "import scipy.io as spio\n",
    "import numpy as np\n",
    "import vtk\n",
    "import pdb\n",
    "import matplotlib.pyplot as plt"
   ]
  },
  {
   "cell_type": "code",
   "execution_count": 2,
   "metadata": {},
   "outputs": [],
   "source": [
    "covis = spio.loadmat(\"data/Processed/2021/01/03/COVIS-20210103T000002-fullimaging1/COVIS-20210103T000002-imaging1.mat\")\n",
    "\n",
    "xg = covis[\"imaging\"][\"grid\"][0][0][0][\"x\"][0]\n",
    "yg = covis[\"imaging\"][\"grid\"][0][0][0][\"y\"][0]\n",
    "zg = covis[\"imaging\"][\"grid\"][0][0][0][\"z\"][0]\n",
    "vg = covis[\"imaging\"][\"grid\"][0][0][0][\"Id_filt\"][0]\n",
    "\n",
    "v = vg.copy()\n",
    "eps = np.nan\n",
    "m = np.where(v == 0)\n",
    "v[m] = 1  # remove zeros\n",
    "v = 10 * np.log10(v)"
   ]
  },
  {
   "cell_type": "code",
   "execution_count": 3,
   "metadata": {},
   "outputs": [],
   "source": [
    "# Create a VTK structured points object for the second dataset\n",
    "points2 = vtk.vtkPoints()\n",
    "scalars2 = vtk.vtkFloatArray()\n",
    "\n",
    "for i in range(xg.shape[0]):\n",
    "    for j in range(xg.shape[1]):\n",
    "        for k in range(xg.shape[2]):\n",
    "            points2.InsertNextPoint(xg[i, j, k], yg[i, j, k], zg[i, j, k])\n",
    "\n",
    "            # print(xg[i, j, k], yg[i, j, k], zg[i, j, k], v[i,j,k])\n",
    "            scalars2.InsertNextValue(v[i, j, k])\n",
    "\n",
    "vtk_data2 = vtk.vtkStructuredPoints()\n",
    "vtk_data2.SetDimensions(xg.shape[2], xg.shape[1], xg.shape[0])\n",
    "vtk_data2.GetPointData().SetScalars(scalars2)\n",
    "\n",
    "vtk_data2.SetExtent(0, xg.shape[2]-1, -xg.shape[1]+1, 0, 0, xg.shape[0]-1)\n",
    "vtk_data2.SetSpacing(0.25,0.25,0.25)\n",
    "vtk_data2.SetOrigin(-2,20, -40)"
   ]
  },
  {
   "cell_type": "code",
   "execution_count": 39,
   "metadata": {},
   "outputs": [
    {
     "data": {
      "text/plain": [
       "<vtkmodules.vtkCommonDataModel.vtkStructuredPoints(0x5585f3147aa0) at 0x7fe8769f4520>"
      ]
     },
     "execution_count": 39,
     "metadata": {},
     "output_type": "execute_result"
    }
   ],
   "source": [
    "vtk_data2"
   ]
  },
  {
   "cell_type": "code",
   "execution_count": 43,
   "metadata": {},
   "outputs": [
    {
     "data": {
      "text/plain": [
       "1"
      ]
     },
     "execution_count": 43,
     "metadata": {},
     "output_type": "execute_result"
    }
   ],
   "source": [
    "writer = vtk.vtkStructuredPointsWriter()\n",
    "writer.SetFileName(\"output_points.vtk\")\n",
    "writer.SetInputData(vtk_data2)\n",
    "writer.Write()"
   ]
  },
  {
   "cell_type": "code",
   "execution_count": 4,
   "metadata": {},
   "outputs": [
    {
     "data": {
      "text/plain": [
       "<vtkmodules.vtkFiltersCore.vtkContourFilter(0x5585f313b3b0) at 0x7fe86ea2bdc0>"
      ]
     },
     "execution_count": 4,
     "metadata": {},
     "output_type": "execute_result"
    }
   ],
   "source": [
    "# Create a VTK contour filter\n",
    "contour2 = vtk.vtkContourFilter()\n",
    "contour2.SetInputData(vtk_data2)\n",
    "contour2.SetValue(0, (np.nanmax(v) + np.nanmin(v))/2)\n",
    "contour2"
   ]
  },
  {
   "cell_type": "code",
   "execution_count": 36,
   "metadata": {},
   "outputs": [
    {
     "data": {
      "text/plain": [
       "1"
      ]
     },
     "execution_count": 36,
     "metadata": {},
     "output_type": "execute_result"
    }
   ],
   "source": [
    "# contour_surface = vtk.vtkExtractSurface()\n",
    "# contour_surface.SetInputData(contour2.GetOutputDataObject())\n",
    "# contour_surface\n",
    "\n",
    "t = contour2.GetOutput()\n",
    "writer = vtk.vtkPolyDataWriter()\n",
    "writer.SetFileName(\"contour.vtk\")\n",
    "writer.SetInputData(t)\n",
    "writer.Write()"
   ]
  },
  {
   "cell_type": "code",
   "execution_count": 37,
   "metadata": {},
   "outputs": [
    {
     "data": {
      "text/plain": [
       "<vtkmodules.vtkCommonDataModel.vtkPolyData(0x5585f5b08220) at 0x7fe85839c880>"
      ]
     },
     "execution_count": 37,
     "metadata": {},
     "output_type": "execute_result"
    }
   ],
   "source": [
    "t = contour2.GetOutput()\n"
   ]
  },
  {
   "cell_type": "code",
   "execution_count": null,
   "metadata": {},
   "outputs": [],
   "source": [
    "writer = vtk.vtkPolyDataWriter()\n",
    "writer.SetFileName(\"output_contour.vtk\")\n",
    "writer.SetInputData(contour2.GetOutputDataObject())\n",
    "writer.Write()"
   ]
  },
  {
   "cell_type": "code",
   "execution_count": null,
   "metadata": {},
   "outputs": [],
   "source": [
    "plt.imshow(v[:,:,15])\n",
    "plt.colorbar()\n",
    "plt.show()"
   ]
  },
  {
   "cell_type": "code",
   "execution_count": null,
   "metadata": {},
   "outputs": [],
   "source": []
  }
 ],
 "metadata": {
  "kernelspec": {
   "display_name": "Python 3",
   "language": "python",
   "name": "python3"
  },
  "language_info": {
   "codemirror_mode": {
    "name": "ipython",
    "version": 3
   },
   "file_extension": ".py",
   "mimetype": "text/x-python",
   "name": "python",
   "nbconvert_exporter": "python",
   "pygments_lexer": "ipython3",
   "version": "3.10.12"
  }
 },
 "nbformat": 4,
 "nbformat_minor": 2
}
