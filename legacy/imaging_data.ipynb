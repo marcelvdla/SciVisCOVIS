{
 "cells": [
  {
   "cell_type": "code",
   "execution_count": 2,
   "metadata": {},
   "outputs": [],
   "source": [
    "import scipy.io as sio\n",
    "import matplotlib.pyplot as plt\n",
    "import numpy as np\n",
    "import os\n",
    "\n",
    "%matplotlib widget"
   ]
  },
  {
   "cell_type": "code",
   "execution_count": 8,
   "metadata": {},
   "outputs": [],
   "source": [
    "path = 'data/Processed/2021/01/03'\n",
    "\n",
    "imaging_data = []\n",
    "\n",
    "for folder in os.listdir(path):\n",
    "    name = folder.split('-')\n",
    "    if 'fullimaging1' in name:\n",
    "        data = sio.loadmat(f'{path}/{folder}/{name[0]}-{name[1]}-imaging1.mat')\n",
    "\n",
    "        imaging_data.append(data)\n",
    "    if len(imaging_data) > 1:\n",
    "        break"
   ]
  },
  {
   "cell_type": "code",
   "execution_count": 61,
   "metadata": {},
   "outputs": [
    {
     "data": {
      "text/plain": [
       "array([[2.15249173e-02],\n",
       "       [4.30498345e-02],\n",
       "       [6.45747518e-02],\n",
       "       ...,\n",
       "       [7.57892337e+01],\n",
       "       [7.58107586e+01],\n",
       "       [7.58322835e+01]])"
      ]
     },
     "execution_count": 61,
     "metadata": {},
     "output_type": "execute_result"
    }
   ],
   "source": [
    "imaging_data[0]['imaging'][0][0][4][0][0][0][0][0][11]"
   ]
  },
  {
   "cell_type": "code",
   "execution_count": null,
   "metadata": {},
   "outputs": [],
   "source": []
  }
 ],
 "metadata": {
  "kernelspec": {
   "display_name": "Python 3",
   "language": "python",
   "name": "python3"
  },
  "language_info": {
   "codemirror_mode": {
    "name": "ipython",
    "version": 3
   },
   "file_extension": ".py",
   "mimetype": "text/x-python",
   "name": "python",
   "nbconvert_exporter": "python",
   "pygments_lexer": "ipython3",
   "version": "3.10.12"
  }
 },
 "nbformat": 4,
 "nbformat_minor": 2
}
